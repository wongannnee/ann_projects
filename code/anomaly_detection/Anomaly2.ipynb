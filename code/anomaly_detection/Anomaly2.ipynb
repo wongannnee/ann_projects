{
 "cells": [
  {
   "cell_type": "markdown",
   "metadata": {},
   "source": [
    "## Import Libraries"
   ]
  },
  {
   "cell_type": "code",
   "execution_count": 1,
   "metadata": {},
   "outputs": [],
   "source": [
    "import pandas as pd\n",
    "import sweetviz as sv\n",
    "from pandas_profiling import ProfileReport"
   ]
  },
  {
   "cell_type": "markdown",
   "metadata": {},
   "source": [
    "## Exploratory data analysis wtih Sweetviz"
   ]
  },
  {
   "cell_type": "code",
   "execution_count": 2,
   "metadata": {},
   "outputs": [],
   "source": [
    "data = pd.read_csv('delaware_anomaly.csv')"
   ]
  },
  {
   "cell_type": "code",
   "execution_count": 6,
   "metadata": {},
   "outputs": [
    {
     "data": {
      "text/html": [
       "<div>\n",
       "<style scoped>\n",
       "    .dataframe tbody tr th:only-of-type {\n",
       "        vertical-align: middle;\n",
       "    }\n",
       "\n",
       "    .dataframe tbody tr th {\n",
       "        vertical-align: top;\n",
       "    }\n",
       "\n",
       "    .dataframe thead th {\n",
       "        text-align: right;\n",
       "    }\n",
       "</style>\n",
       "<table border=\"1\" class=\"dataframe\">\n",
       "  <thead>\n",
       "    <tr style=\"text-align: right;\">\n",
       "      <th></th>\n",
       "      <th>FISCAL_YEAR</th>\n",
       "      <th>FISCAL_PERIOD</th>\n",
       "      <th>DEPT_NAME</th>\n",
       "      <th>DIV_NAME</th>\n",
       "      <th>MERCHANT</th>\n",
       "      <th>CAT_DESCR</th>\n",
       "      <th>TRANS_DT</th>\n",
       "      <th>MERCHANDISE_AMT</th>\n",
       "    </tr>\n",
       "  </thead>\n",
       "  <tbody>\n",
       "    <tr>\n",
       "      <th>0</th>\n",
       "      <td>2015</td>\n",
       "      <td>1</td>\n",
       "      <td>DEPT OF EDUCATION</td>\n",
       "      <td>DEPARTMENT OF EDUCATION</td>\n",
       "      <td>DOUBLETREE HOTELS WASHING</td>\n",
       "      <td>LODGING</td>\n",
       "      <td>6/3/2014</td>\n",
       "      <td>-5.50</td>\n",
       "    </tr>\n",
       "    <tr>\n",
       "      <th>1</th>\n",
       "      <td>2015</td>\n",
       "      <td>1</td>\n",
       "      <td>DEPT OF EDUCATION</td>\n",
       "      <td>DEPARTMENT OF EDUCATION</td>\n",
       "      <td>HYATT REGENCY NW ORLE F/B</td>\n",
       "      <td>EATING PLACES RESTAURANTS</td>\n",
       "      <td>6/26/2014</td>\n",
       "      <td>18.31</td>\n",
       "    </tr>\n",
       "    <tr>\n",
       "      <th>2</th>\n",
       "      <td>2015</td>\n",
       "      <td>1</td>\n",
       "      <td>DEPT OF EDUCATION</td>\n",
       "      <td>DEPARTMENT OF EDUCATION</td>\n",
       "      <td>HYATT REGENCY NW ORLE F/B</td>\n",
       "      <td>EATING PLACES RESTAURANTS</td>\n",
       "      <td>6/26/2014</td>\n",
       "      <td>21.61</td>\n",
       "    </tr>\n",
       "    <tr>\n",
       "      <th>3</th>\n",
       "      <td>2015</td>\n",
       "      <td>1</td>\n",
       "      <td>DEPT OF EDUCATION</td>\n",
       "      <td>DEPARTMENT OF EDUCATION</td>\n",
       "      <td>HYATT REGENCY NW ORLE F/B</td>\n",
       "      <td>EATING PLACES RESTAURANTS</td>\n",
       "      <td>6/26/2014</td>\n",
       "      <td>22.39</td>\n",
       "    </tr>\n",
       "    <tr>\n",
       "      <th>4</th>\n",
       "      <td>2015</td>\n",
       "      <td>1</td>\n",
       "      <td>DEPT OF EDUCATION</td>\n",
       "      <td>DEPARTMENT OF EDUCATION</td>\n",
       "      <td>HYATT REGENCY NW ORLE F/B</td>\n",
       "      <td>EATING PLACES RESTAURANTS</td>\n",
       "      <td>6/26/2014</td>\n",
       "      <td>5.44</td>\n",
       "    </tr>\n",
       "  </tbody>\n",
       "</table>\n",
       "</div>"
      ],
      "text/plain": [
       "   FISCAL_YEAR  FISCAL_PERIOD          DEPT_NAME                 DIV_NAME  \\\n",
       "0         2015              1  DEPT OF EDUCATION  DEPARTMENT OF EDUCATION   \n",
       "1         2015              1  DEPT OF EDUCATION  DEPARTMENT OF EDUCATION   \n",
       "2         2015              1  DEPT OF EDUCATION  DEPARTMENT OF EDUCATION   \n",
       "3         2015              1  DEPT OF EDUCATION  DEPARTMENT OF EDUCATION   \n",
       "4         2015              1  DEPT OF EDUCATION  DEPARTMENT OF EDUCATION   \n",
       "\n",
       "                    MERCHANT                  CAT_DESCR   TRANS_DT  \\\n",
       "0  DOUBLETREE HOTELS WASHING                    LODGING   6/3/2014   \n",
       "1  HYATT REGENCY NW ORLE F/B  EATING PLACES RESTAURANTS  6/26/2014   \n",
       "2  HYATT REGENCY NW ORLE F/B  EATING PLACES RESTAURANTS  6/26/2014   \n",
       "3  HYATT REGENCY NW ORLE F/B  EATING PLACES RESTAURANTS  6/26/2014   \n",
       "4  HYATT REGENCY NW ORLE F/B  EATING PLACES RESTAURANTS  6/26/2014   \n",
       "\n",
       "   MERCHANDISE_AMT  \n",
       "0            -5.50  \n",
       "1            18.31  \n",
       "2            21.61  \n",
       "3            22.39  \n",
       "4             5.44  "
      ]
     },
     "execution_count": 6,
     "metadata": {},
     "output_type": "execute_result"
    }
   ],
   "source": [
    "data.head()"
   ]
  },
  {
   "cell_type": "code",
   "execution_count": 3,
   "metadata": {},
   "outputs": [
    {
     "data": {
      "application/vnd.jupyter.widget-view+json": {
       "model_id": "ddbd5326988042da98b5d2ec42d80542",
       "version_major": 2,
       "version_minor": 0
      },
      "text/plain": [
       "                                             |          | [  0%]   00:00 -> (? left)"
      ]
     },
     "metadata": {},
     "output_type": "display_data"
    },
    {
     "name": "stdout",
     "output_type": "stream",
     "text": [
      "Report Anomaly_Report2.html was generated! NOTEBOOK/COLAB USERS: the web browser MAY not pop up, regardless, the report IS saved in your notebook/colab files.\n"
     ]
    }
   ],
   "source": [
    "anomaly_report2 = sv.analyze(data)\n",
    "anomaly_report2.show_html('Anomaly_Report2.html')"
   ]
  },
  {
   "cell_type": "markdown",
   "metadata": {},
   "source": [
    "## Exploratory Data Analysis with Pandas Profiling"
   ]
  },
  {
   "cell_type": "code",
   "execution_count": 6,
   "metadata": {},
   "outputs": [
    {
     "data": {
      "application/vnd.jupyter.widget-view+json": {
       "model_id": "1ed28a57aece4365a9d90eaef4feb410",
       "version_major": 2,
       "version_minor": 0
      },
      "text/plain": [
       "Summarize dataset:   0%|          | 0/21 [00:00<?, ?it/s]"
      ]
     },
     "metadata": {},
     "output_type": "display_data"
    },
    {
     "data": {
      "application/vnd.jupyter.widget-view+json": {
       "model_id": "ce2b71c8e6524ea1afd24d0bef4b3667",
       "version_major": 2,
       "version_minor": 0
      },
      "text/plain": [
       "Generate report structure:   0%|          | 0/1 [00:00<?, ?it/s]"
      ]
     },
     "metadata": {},
     "output_type": "display_data"
    },
    {
     "data": {
      "application/vnd.jupyter.widget-view+json": {
       "model_id": "96a1d3298c134fb9a5dae9a3ca1208da",
       "version_major": 2,
       "version_minor": 0
      },
      "text/plain": [
       "Render HTML:   0%|          | 0/1 [00:00<?, ?it/s]"
      ]
     },
     "metadata": {},
     "output_type": "display_data"
    },
    {
     "data": {
      "application/vnd.jupyter.widget-view+json": {
       "model_id": "34f21804ae4341588f9b72c3efa845ba",
       "version_major": 2,
       "version_minor": 0
      },
      "text/plain": [
       "Export report to file:   0%|          | 0/1 [00:00<?, ?it/s]"
      ]
     },
     "metadata": {},
     "output_type": "display_data"
    }
   ],
   "source": [
    "anomaly_report3 = ProfileReport(data, title='Anomaly_Report_Pandas')\n",
    "\n",
    "# Save the html report on results directory\n",
    "anomaly_report3.to_file(\"./Anomaly_Report_Pandas.html\")"
   ]
  },
  {
   "cell_type": "code",
   "execution_count": 10,
   "metadata": {
    "scrolled": true
   },
   "outputs": [
    {
     "data": {
      "text/plain": [
       "FISCAL_YEAR          int64\n",
       "FISCAL_PERIOD        int64\n",
       "DEPT_NAME           object\n",
       "DIV_NAME            object\n",
       "MERCHANT            object\n",
       "CAT_DESCR           object\n",
       "TRANS_DT            object\n",
       "MERCHANDISE_AMT    float64\n",
       "dtype: object"
      ]
     },
     "execution_count": 10,
     "metadata": {},
     "output_type": "execute_result"
    }
   ],
   "source": [
    "data.dtypes"
   ]
  },
  {
   "cell_type": "code",
   "execution_count": 8,
   "metadata": {},
   "outputs": [
    {
     "data": {
      "text/html": [
       "<style  type=\"text/css\" >\n",
       "#T_83ff2b1c_95d3_11eb_a977_34f39a3cc575row6_col1{\n",
       "            background-color:  lightgreen;\n",
       "        }</style><table id=\"T_83ff2b1c_95d3_11eb_a977_34f39a3cc575\" ><thead>    <tr>        <th class=\"blank level0\" ></th>        <th class=\"col_heading level0 col0\" >Description</th>        <th class=\"col_heading level0 col1\" >Value</th>    </tr></thead><tbody>\n",
       "                <tr>\n",
       "                        <th id=\"T_83ff2b1c_95d3_11eb_a977_34f39a3cc575level0_row0\" class=\"row_heading level0 row0\" >0</th>\n",
       "                        <td id=\"T_83ff2b1c_95d3_11eb_a977_34f39a3cc575row0_col0\" class=\"data row0 col0\" >session_id</td>\n",
       "                        <td id=\"T_83ff2b1c_95d3_11eb_a977_34f39a3cc575row0_col1\" class=\"data row0 col1\" >123</td>\n",
       "            </tr>\n",
       "            <tr>\n",
       "                        <th id=\"T_83ff2b1c_95d3_11eb_a977_34f39a3cc575level0_row1\" class=\"row_heading level0 row1\" >1</th>\n",
       "                        <td id=\"T_83ff2b1c_95d3_11eb_a977_34f39a3cc575row1_col0\" class=\"data row1 col0\" >Original Data</td>\n",
       "                        <td id=\"T_83ff2b1c_95d3_11eb_a977_34f39a3cc575row1_col1\" class=\"data row1 col1\" >(15156, 8)</td>\n",
       "            </tr>\n",
       "            <tr>\n",
       "                        <th id=\"T_83ff2b1c_95d3_11eb_a977_34f39a3cc575level0_row2\" class=\"row_heading level0 row2\" >2</th>\n",
       "                        <td id=\"T_83ff2b1c_95d3_11eb_a977_34f39a3cc575row2_col0\" class=\"data row2 col0\" >Missing Values</td>\n",
       "                        <td id=\"T_83ff2b1c_95d3_11eb_a977_34f39a3cc575row2_col1\" class=\"data row2 col1\" >False</td>\n",
       "            </tr>\n",
       "            <tr>\n",
       "                        <th id=\"T_83ff2b1c_95d3_11eb_a977_34f39a3cc575level0_row3\" class=\"row_heading level0 row3\" >3</th>\n",
       "                        <td id=\"T_83ff2b1c_95d3_11eb_a977_34f39a3cc575row3_col0\" class=\"data row3 col0\" >Numeric Features</td>\n",
       "                        <td id=\"T_83ff2b1c_95d3_11eb_a977_34f39a3cc575row3_col1\" class=\"data row3 col1\" >3</td>\n",
       "            </tr>\n",
       "            <tr>\n",
       "                        <th id=\"T_83ff2b1c_95d3_11eb_a977_34f39a3cc575level0_row4\" class=\"row_heading level0 row4\" >4</th>\n",
       "                        <td id=\"T_83ff2b1c_95d3_11eb_a977_34f39a3cc575row4_col0\" class=\"data row4 col0\" >Categorical Features</td>\n",
       "                        <td id=\"T_83ff2b1c_95d3_11eb_a977_34f39a3cc575row4_col1\" class=\"data row4 col1\" >2</td>\n",
       "            </tr>\n",
       "            <tr>\n",
       "                        <th id=\"T_83ff2b1c_95d3_11eb_a977_34f39a3cc575level0_row5\" class=\"row_heading level0 row5\" >5</th>\n",
       "                        <td id=\"T_83ff2b1c_95d3_11eb_a977_34f39a3cc575row5_col0\" class=\"data row5 col0\" >Ordinal Features</td>\n",
       "                        <td id=\"T_83ff2b1c_95d3_11eb_a977_34f39a3cc575row5_col1\" class=\"data row5 col1\" >False</td>\n",
       "            </tr>\n",
       "            <tr>\n",
       "                        <th id=\"T_83ff2b1c_95d3_11eb_a977_34f39a3cc575level0_row6\" class=\"row_heading level0 row6\" >6</th>\n",
       "                        <td id=\"T_83ff2b1c_95d3_11eb_a977_34f39a3cc575row6_col0\" class=\"data row6 col0\" >High Cardinality Features</td>\n",
       "                        <td id=\"T_83ff2b1c_95d3_11eb_a977_34f39a3cc575row6_col1\" class=\"data row6 col1\" >True</td>\n",
       "            </tr>\n",
       "            <tr>\n",
       "                        <th id=\"T_83ff2b1c_95d3_11eb_a977_34f39a3cc575level0_row7\" class=\"row_heading level0 row7\" >7</th>\n",
       "                        <td id=\"T_83ff2b1c_95d3_11eb_a977_34f39a3cc575row7_col0\" class=\"data row7 col0\" >High Cardinality Method</td>\n",
       "                        <td id=\"T_83ff2b1c_95d3_11eb_a977_34f39a3cc575row7_col1\" class=\"data row7 col1\" >frequency</td>\n",
       "            </tr>\n",
       "            <tr>\n",
       "                        <th id=\"T_83ff2b1c_95d3_11eb_a977_34f39a3cc575level0_row8\" class=\"row_heading level0 row8\" >8</th>\n",
       "                        <td id=\"T_83ff2b1c_95d3_11eb_a977_34f39a3cc575row8_col0\" class=\"data row8 col0\" >Transformed Data</td>\n",
       "                        <td id=\"T_83ff2b1c_95d3_11eb_a977_34f39a3cc575row8_col1\" class=\"data row8 col1\" >(15156, 52)</td>\n",
       "            </tr>\n",
       "            <tr>\n",
       "                        <th id=\"T_83ff2b1c_95d3_11eb_a977_34f39a3cc575level0_row9\" class=\"row_heading level0 row9\" >9</th>\n",
       "                        <td id=\"T_83ff2b1c_95d3_11eb_a977_34f39a3cc575row9_col0\" class=\"data row9 col0\" >CPU Jobs</td>\n",
       "                        <td id=\"T_83ff2b1c_95d3_11eb_a977_34f39a3cc575row9_col1\" class=\"data row9 col1\" >-1</td>\n",
       "            </tr>\n",
       "            <tr>\n",
       "                        <th id=\"T_83ff2b1c_95d3_11eb_a977_34f39a3cc575level0_row10\" class=\"row_heading level0 row10\" >10</th>\n",
       "                        <td id=\"T_83ff2b1c_95d3_11eb_a977_34f39a3cc575row10_col0\" class=\"data row10 col0\" >Use GPU</td>\n",
       "                        <td id=\"T_83ff2b1c_95d3_11eb_a977_34f39a3cc575row10_col1\" class=\"data row10 col1\" >False</td>\n",
       "            </tr>\n",
       "            <tr>\n",
       "                        <th id=\"T_83ff2b1c_95d3_11eb_a977_34f39a3cc575level0_row11\" class=\"row_heading level0 row11\" >11</th>\n",
       "                        <td id=\"T_83ff2b1c_95d3_11eb_a977_34f39a3cc575row11_col0\" class=\"data row11 col0\" >Log Experiment</td>\n",
       "                        <td id=\"T_83ff2b1c_95d3_11eb_a977_34f39a3cc575row11_col1\" class=\"data row11 col1\" >False</td>\n",
       "            </tr>\n",
       "            <tr>\n",
       "                        <th id=\"T_83ff2b1c_95d3_11eb_a977_34f39a3cc575level0_row12\" class=\"row_heading level0 row12\" >12</th>\n",
       "                        <td id=\"T_83ff2b1c_95d3_11eb_a977_34f39a3cc575row12_col0\" class=\"data row12 col0\" >Experiment Name</td>\n",
       "                        <td id=\"T_83ff2b1c_95d3_11eb_a977_34f39a3cc575row12_col1\" class=\"data row12 col1\" >anomaly-default-name</td>\n",
       "            </tr>\n",
       "            <tr>\n",
       "                        <th id=\"T_83ff2b1c_95d3_11eb_a977_34f39a3cc575level0_row13\" class=\"row_heading level0 row13\" >13</th>\n",
       "                        <td id=\"T_83ff2b1c_95d3_11eb_a977_34f39a3cc575row13_col0\" class=\"data row13 col0\" >USI</td>\n",
       "                        <td id=\"T_83ff2b1c_95d3_11eb_a977_34f39a3cc575row13_col1\" class=\"data row13 col1\" >14c1</td>\n",
       "            </tr>\n",
       "            <tr>\n",
       "                        <th id=\"T_83ff2b1c_95d3_11eb_a977_34f39a3cc575level0_row14\" class=\"row_heading level0 row14\" >14</th>\n",
       "                        <td id=\"T_83ff2b1c_95d3_11eb_a977_34f39a3cc575row14_col0\" class=\"data row14 col0\" >Imputation Type</td>\n",
       "                        <td id=\"T_83ff2b1c_95d3_11eb_a977_34f39a3cc575row14_col1\" class=\"data row14 col1\" >simple</td>\n",
       "            </tr>\n",
       "            <tr>\n",
       "                        <th id=\"T_83ff2b1c_95d3_11eb_a977_34f39a3cc575level0_row15\" class=\"row_heading level0 row15\" >15</th>\n",
       "                        <td id=\"T_83ff2b1c_95d3_11eb_a977_34f39a3cc575row15_col0\" class=\"data row15 col0\" >Iterative Imputation Iteration</td>\n",
       "                        <td id=\"T_83ff2b1c_95d3_11eb_a977_34f39a3cc575row15_col1\" class=\"data row15 col1\" >None</td>\n",
       "            </tr>\n",
       "            <tr>\n",
       "                        <th id=\"T_83ff2b1c_95d3_11eb_a977_34f39a3cc575level0_row16\" class=\"row_heading level0 row16\" >16</th>\n",
       "                        <td id=\"T_83ff2b1c_95d3_11eb_a977_34f39a3cc575row16_col0\" class=\"data row16 col0\" >Numeric Imputer</td>\n",
       "                        <td id=\"T_83ff2b1c_95d3_11eb_a977_34f39a3cc575row16_col1\" class=\"data row16 col1\" >mean</td>\n",
       "            </tr>\n",
       "            <tr>\n",
       "                        <th id=\"T_83ff2b1c_95d3_11eb_a977_34f39a3cc575level0_row17\" class=\"row_heading level0 row17\" >17</th>\n",
       "                        <td id=\"T_83ff2b1c_95d3_11eb_a977_34f39a3cc575row17_col0\" class=\"data row17 col0\" >Iterative Imputation Numeric Model</td>\n",
       "                        <td id=\"T_83ff2b1c_95d3_11eb_a977_34f39a3cc575row17_col1\" class=\"data row17 col1\" >None</td>\n",
       "            </tr>\n",
       "            <tr>\n",
       "                        <th id=\"T_83ff2b1c_95d3_11eb_a977_34f39a3cc575level0_row18\" class=\"row_heading level0 row18\" >18</th>\n",
       "                        <td id=\"T_83ff2b1c_95d3_11eb_a977_34f39a3cc575row18_col0\" class=\"data row18 col0\" >Categorical Imputer</td>\n",
       "                        <td id=\"T_83ff2b1c_95d3_11eb_a977_34f39a3cc575row18_col1\" class=\"data row18 col1\" >mode</td>\n",
       "            </tr>\n",
       "            <tr>\n",
       "                        <th id=\"T_83ff2b1c_95d3_11eb_a977_34f39a3cc575level0_row19\" class=\"row_heading level0 row19\" >19</th>\n",
       "                        <td id=\"T_83ff2b1c_95d3_11eb_a977_34f39a3cc575row19_col0\" class=\"data row19 col0\" >Iterative Imputation Categorical Model</td>\n",
       "                        <td id=\"T_83ff2b1c_95d3_11eb_a977_34f39a3cc575row19_col1\" class=\"data row19 col1\" >None</td>\n",
       "            </tr>\n",
       "            <tr>\n",
       "                        <th id=\"T_83ff2b1c_95d3_11eb_a977_34f39a3cc575level0_row20\" class=\"row_heading level0 row20\" >20</th>\n",
       "                        <td id=\"T_83ff2b1c_95d3_11eb_a977_34f39a3cc575row20_col0\" class=\"data row20 col0\" >Unknown Categoricals Handling</td>\n",
       "                        <td id=\"T_83ff2b1c_95d3_11eb_a977_34f39a3cc575row20_col1\" class=\"data row20 col1\" >least_frequent</td>\n",
       "            </tr>\n",
       "            <tr>\n",
       "                        <th id=\"T_83ff2b1c_95d3_11eb_a977_34f39a3cc575level0_row21\" class=\"row_heading level0 row21\" >21</th>\n",
       "                        <td id=\"T_83ff2b1c_95d3_11eb_a977_34f39a3cc575row21_col0\" class=\"data row21 col0\" >Normalize</td>\n",
       "                        <td id=\"T_83ff2b1c_95d3_11eb_a977_34f39a3cc575row21_col1\" class=\"data row21 col1\" >False</td>\n",
       "            </tr>\n",
       "            <tr>\n",
       "                        <th id=\"T_83ff2b1c_95d3_11eb_a977_34f39a3cc575level0_row22\" class=\"row_heading level0 row22\" >22</th>\n",
       "                        <td id=\"T_83ff2b1c_95d3_11eb_a977_34f39a3cc575row22_col0\" class=\"data row22 col0\" >Normalize Method</td>\n",
       "                        <td id=\"T_83ff2b1c_95d3_11eb_a977_34f39a3cc575row22_col1\" class=\"data row22 col1\" >None</td>\n",
       "            </tr>\n",
       "            <tr>\n",
       "                        <th id=\"T_83ff2b1c_95d3_11eb_a977_34f39a3cc575level0_row23\" class=\"row_heading level0 row23\" >23</th>\n",
       "                        <td id=\"T_83ff2b1c_95d3_11eb_a977_34f39a3cc575row23_col0\" class=\"data row23 col0\" >Transformation</td>\n",
       "                        <td id=\"T_83ff2b1c_95d3_11eb_a977_34f39a3cc575row23_col1\" class=\"data row23 col1\" >False</td>\n",
       "            </tr>\n",
       "            <tr>\n",
       "                        <th id=\"T_83ff2b1c_95d3_11eb_a977_34f39a3cc575level0_row24\" class=\"row_heading level0 row24\" >24</th>\n",
       "                        <td id=\"T_83ff2b1c_95d3_11eb_a977_34f39a3cc575row24_col0\" class=\"data row24 col0\" >Transformation Method</td>\n",
       "                        <td id=\"T_83ff2b1c_95d3_11eb_a977_34f39a3cc575row24_col1\" class=\"data row24 col1\" >None</td>\n",
       "            </tr>\n",
       "            <tr>\n",
       "                        <th id=\"T_83ff2b1c_95d3_11eb_a977_34f39a3cc575level0_row25\" class=\"row_heading level0 row25\" >25</th>\n",
       "                        <td id=\"T_83ff2b1c_95d3_11eb_a977_34f39a3cc575row25_col0\" class=\"data row25 col0\" >PCA</td>\n",
       "                        <td id=\"T_83ff2b1c_95d3_11eb_a977_34f39a3cc575row25_col1\" class=\"data row25 col1\" >False</td>\n",
       "            </tr>\n",
       "            <tr>\n",
       "                        <th id=\"T_83ff2b1c_95d3_11eb_a977_34f39a3cc575level0_row26\" class=\"row_heading level0 row26\" >26</th>\n",
       "                        <td id=\"T_83ff2b1c_95d3_11eb_a977_34f39a3cc575row26_col0\" class=\"data row26 col0\" >PCA Method</td>\n",
       "                        <td id=\"T_83ff2b1c_95d3_11eb_a977_34f39a3cc575row26_col1\" class=\"data row26 col1\" >None</td>\n",
       "            </tr>\n",
       "            <tr>\n",
       "                        <th id=\"T_83ff2b1c_95d3_11eb_a977_34f39a3cc575level0_row27\" class=\"row_heading level0 row27\" >27</th>\n",
       "                        <td id=\"T_83ff2b1c_95d3_11eb_a977_34f39a3cc575row27_col0\" class=\"data row27 col0\" >PCA Components</td>\n",
       "                        <td id=\"T_83ff2b1c_95d3_11eb_a977_34f39a3cc575row27_col1\" class=\"data row27 col1\" >None</td>\n",
       "            </tr>\n",
       "            <tr>\n",
       "                        <th id=\"T_83ff2b1c_95d3_11eb_a977_34f39a3cc575level0_row28\" class=\"row_heading level0 row28\" >28</th>\n",
       "                        <td id=\"T_83ff2b1c_95d3_11eb_a977_34f39a3cc575row28_col0\" class=\"data row28 col0\" >Ignore Low Variance</td>\n",
       "                        <td id=\"T_83ff2b1c_95d3_11eb_a977_34f39a3cc575row28_col1\" class=\"data row28 col1\" >False</td>\n",
       "            </tr>\n",
       "            <tr>\n",
       "                        <th id=\"T_83ff2b1c_95d3_11eb_a977_34f39a3cc575level0_row29\" class=\"row_heading level0 row29\" >29</th>\n",
       "                        <td id=\"T_83ff2b1c_95d3_11eb_a977_34f39a3cc575row29_col0\" class=\"data row29 col0\" >Combine Rare Levels</td>\n",
       "                        <td id=\"T_83ff2b1c_95d3_11eb_a977_34f39a3cc575row29_col1\" class=\"data row29 col1\" >False</td>\n",
       "            </tr>\n",
       "            <tr>\n",
       "                        <th id=\"T_83ff2b1c_95d3_11eb_a977_34f39a3cc575level0_row30\" class=\"row_heading level0 row30\" >30</th>\n",
       "                        <td id=\"T_83ff2b1c_95d3_11eb_a977_34f39a3cc575row30_col0\" class=\"data row30 col0\" >Rare Level Threshold</td>\n",
       "                        <td id=\"T_83ff2b1c_95d3_11eb_a977_34f39a3cc575row30_col1\" class=\"data row30 col1\" >None</td>\n",
       "            </tr>\n",
       "            <tr>\n",
       "                        <th id=\"T_83ff2b1c_95d3_11eb_a977_34f39a3cc575level0_row31\" class=\"row_heading level0 row31\" >31</th>\n",
       "                        <td id=\"T_83ff2b1c_95d3_11eb_a977_34f39a3cc575row31_col0\" class=\"data row31 col0\" >Numeric Binning</td>\n",
       "                        <td id=\"T_83ff2b1c_95d3_11eb_a977_34f39a3cc575row31_col1\" class=\"data row31 col1\" >False</td>\n",
       "            </tr>\n",
       "            <tr>\n",
       "                        <th id=\"T_83ff2b1c_95d3_11eb_a977_34f39a3cc575level0_row32\" class=\"row_heading level0 row32\" >32</th>\n",
       "                        <td id=\"T_83ff2b1c_95d3_11eb_a977_34f39a3cc575row32_col0\" class=\"data row32 col0\" >Remove Outliers</td>\n",
       "                        <td id=\"T_83ff2b1c_95d3_11eb_a977_34f39a3cc575row32_col1\" class=\"data row32 col1\" >False</td>\n",
       "            </tr>\n",
       "            <tr>\n",
       "                        <th id=\"T_83ff2b1c_95d3_11eb_a977_34f39a3cc575level0_row33\" class=\"row_heading level0 row33\" >33</th>\n",
       "                        <td id=\"T_83ff2b1c_95d3_11eb_a977_34f39a3cc575row33_col0\" class=\"data row33 col0\" >Outliers Threshold</td>\n",
       "                        <td id=\"T_83ff2b1c_95d3_11eb_a977_34f39a3cc575row33_col1\" class=\"data row33 col1\" >None</td>\n",
       "            </tr>\n",
       "            <tr>\n",
       "                        <th id=\"T_83ff2b1c_95d3_11eb_a977_34f39a3cc575level0_row34\" class=\"row_heading level0 row34\" >34</th>\n",
       "                        <td id=\"T_83ff2b1c_95d3_11eb_a977_34f39a3cc575row34_col0\" class=\"data row34 col0\" >Remove Multicollinearity</td>\n",
       "                        <td id=\"T_83ff2b1c_95d3_11eb_a977_34f39a3cc575row34_col1\" class=\"data row34 col1\" >False</td>\n",
       "            </tr>\n",
       "            <tr>\n",
       "                        <th id=\"T_83ff2b1c_95d3_11eb_a977_34f39a3cc575level0_row35\" class=\"row_heading level0 row35\" >35</th>\n",
       "                        <td id=\"T_83ff2b1c_95d3_11eb_a977_34f39a3cc575row35_col0\" class=\"data row35 col0\" >Multicollinearity Threshold</td>\n",
       "                        <td id=\"T_83ff2b1c_95d3_11eb_a977_34f39a3cc575row35_col1\" class=\"data row35 col1\" >None</td>\n",
       "            </tr>\n",
       "            <tr>\n",
       "                        <th id=\"T_83ff2b1c_95d3_11eb_a977_34f39a3cc575level0_row36\" class=\"row_heading level0 row36\" >36</th>\n",
       "                        <td id=\"T_83ff2b1c_95d3_11eb_a977_34f39a3cc575row36_col0\" class=\"data row36 col0\" >Clustering</td>\n",
       "                        <td id=\"T_83ff2b1c_95d3_11eb_a977_34f39a3cc575row36_col1\" class=\"data row36 col1\" >False</td>\n",
       "            </tr>\n",
       "            <tr>\n",
       "                        <th id=\"T_83ff2b1c_95d3_11eb_a977_34f39a3cc575level0_row37\" class=\"row_heading level0 row37\" >37</th>\n",
       "                        <td id=\"T_83ff2b1c_95d3_11eb_a977_34f39a3cc575row37_col0\" class=\"data row37 col0\" >Clustering Iteration</td>\n",
       "                        <td id=\"T_83ff2b1c_95d3_11eb_a977_34f39a3cc575row37_col1\" class=\"data row37 col1\" >None</td>\n",
       "            </tr>\n",
       "            <tr>\n",
       "                        <th id=\"T_83ff2b1c_95d3_11eb_a977_34f39a3cc575level0_row38\" class=\"row_heading level0 row38\" >38</th>\n",
       "                        <td id=\"T_83ff2b1c_95d3_11eb_a977_34f39a3cc575row38_col0\" class=\"data row38 col0\" >Polynomial Features</td>\n",
       "                        <td id=\"T_83ff2b1c_95d3_11eb_a977_34f39a3cc575row38_col1\" class=\"data row38 col1\" >False</td>\n",
       "            </tr>\n",
       "            <tr>\n",
       "                        <th id=\"T_83ff2b1c_95d3_11eb_a977_34f39a3cc575level0_row39\" class=\"row_heading level0 row39\" >39</th>\n",
       "                        <td id=\"T_83ff2b1c_95d3_11eb_a977_34f39a3cc575row39_col0\" class=\"data row39 col0\" >Polynomial Degree</td>\n",
       "                        <td id=\"T_83ff2b1c_95d3_11eb_a977_34f39a3cc575row39_col1\" class=\"data row39 col1\" >None</td>\n",
       "            </tr>\n",
       "            <tr>\n",
       "                        <th id=\"T_83ff2b1c_95d3_11eb_a977_34f39a3cc575level0_row40\" class=\"row_heading level0 row40\" >40</th>\n",
       "                        <td id=\"T_83ff2b1c_95d3_11eb_a977_34f39a3cc575row40_col0\" class=\"data row40 col0\" >Trignometry Features</td>\n",
       "                        <td id=\"T_83ff2b1c_95d3_11eb_a977_34f39a3cc575row40_col1\" class=\"data row40 col1\" >False</td>\n",
       "            </tr>\n",
       "            <tr>\n",
       "                        <th id=\"T_83ff2b1c_95d3_11eb_a977_34f39a3cc575level0_row41\" class=\"row_heading level0 row41\" >41</th>\n",
       "                        <td id=\"T_83ff2b1c_95d3_11eb_a977_34f39a3cc575row41_col0\" class=\"data row41 col0\" >Polynomial Threshold</td>\n",
       "                        <td id=\"T_83ff2b1c_95d3_11eb_a977_34f39a3cc575row41_col1\" class=\"data row41 col1\" >None</td>\n",
       "            </tr>\n",
       "            <tr>\n",
       "                        <th id=\"T_83ff2b1c_95d3_11eb_a977_34f39a3cc575level0_row42\" class=\"row_heading level0 row42\" >42</th>\n",
       "                        <td id=\"T_83ff2b1c_95d3_11eb_a977_34f39a3cc575row42_col0\" class=\"data row42 col0\" >Group Features</td>\n",
       "                        <td id=\"T_83ff2b1c_95d3_11eb_a977_34f39a3cc575row42_col1\" class=\"data row42 col1\" >False</td>\n",
       "            </tr>\n",
       "            <tr>\n",
       "                        <th id=\"T_83ff2b1c_95d3_11eb_a977_34f39a3cc575level0_row43\" class=\"row_heading level0 row43\" >43</th>\n",
       "                        <td id=\"T_83ff2b1c_95d3_11eb_a977_34f39a3cc575row43_col0\" class=\"data row43 col0\" >Feature Selection</td>\n",
       "                        <td id=\"T_83ff2b1c_95d3_11eb_a977_34f39a3cc575row43_col1\" class=\"data row43 col1\" >False</td>\n",
       "            </tr>\n",
       "            <tr>\n",
       "                        <th id=\"T_83ff2b1c_95d3_11eb_a977_34f39a3cc575level0_row44\" class=\"row_heading level0 row44\" >44</th>\n",
       "                        <td id=\"T_83ff2b1c_95d3_11eb_a977_34f39a3cc575row44_col0\" class=\"data row44 col0\" >Features Selection Threshold</td>\n",
       "                        <td id=\"T_83ff2b1c_95d3_11eb_a977_34f39a3cc575row44_col1\" class=\"data row44 col1\" >None</td>\n",
       "            </tr>\n",
       "            <tr>\n",
       "                        <th id=\"T_83ff2b1c_95d3_11eb_a977_34f39a3cc575level0_row45\" class=\"row_heading level0 row45\" >45</th>\n",
       "                        <td id=\"T_83ff2b1c_95d3_11eb_a977_34f39a3cc575row45_col0\" class=\"data row45 col0\" >Feature Interaction</td>\n",
       "                        <td id=\"T_83ff2b1c_95d3_11eb_a977_34f39a3cc575row45_col1\" class=\"data row45 col1\" >False</td>\n",
       "            </tr>\n",
       "            <tr>\n",
       "                        <th id=\"T_83ff2b1c_95d3_11eb_a977_34f39a3cc575level0_row46\" class=\"row_heading level0 row46\" >46</th>\n",
       "                        <td id=\"T_83ff2b1c_95d3_11eb_a977_34f39a3cc575row46_col0\" class=\"data row46 col0\" >Feature Ratio</td>\n",
       "                        <td id=\"T_83ff2b1c_95d3_11eb_a977_34f39a3cc575row46_col1\" class=\"data row46 col1\" >False</td>\n",
       "            </tr>\n",
       "            <tr>\n",
       "                        <th id=\"T_83ff2b1c_95d3_11eb_a977_34f39a3cc575level0_row47\" class=\"row_heading level0 row47\" >47</th>\n",
       "                        <td id=\"T_83ff2b1c_95d3_11eb_a977_34f39a3cc575row47_col0\" class=\"data row47 col0\" >Interaction Threshold</td>\n",
       "                        <td id=\"T_83ff2b1c_95d3_11eb_a977_34f39a3cc575row47_col1\" class=\"data row47 col1\" >None</td>\n",
       "            </tr>\n",
       "    </tbody></table>"
      ],
      "text/plain": [
       "<pandas.io.formats.style.Styler at 0x1b9fabeb588>"
      ]
     },
     "metadata": {},
     "output_type": "display_data"
    }
   ],
   "source": [
    "from pycaret.anomaly import *\n",
    "s = setup(data, session_id = 123,\n",
    "          ignore_features = ['CAT_DESCR','DEPT_NAME'], high_cardinality_features= ['MERCHANT'],\n",
    "          numeric_features = ['FISCAL_YEAR', 'FISCAL_PERIOD' ])"
   ]
  },
  {
   "cell_type": "code",
   "execution_count": 9,
   "metadata": {},
   "outputs": [
    {
     "data": {
      "text/plain": [
       "Index(['FISCAL_YEAR', 'FISCAL_PERIOD', 'MERCHANT', 'MERCHANDISE_AMT',\n",
       "       'DIV_NAME_ADVISORY COUNCIL', 'DIV_NAME_Academic Support',\n",
       "       'DIV_NAME_Adult Education and Work Force',\n",
       "       'DIV_NAME_DEPARTMENT OF EDUCATION', 'DIV_NAME_DRIVER TRAINING',\n",
       "       'DIV_NAME_Department of Education', 'DIV_NAME_Driver Training',\n",
       "       'DIV_NAME_E Education Block Grants', 'DIV_NAME_E Transportation',\n",
       "       'DIV_NAME_EDUCATION BLOCK GRANTS', 'DIV_NAME_Education Block Grants',\n",
       "       'DIV_NAME_Educator Support', 'DIV_NAME_OTHER ITEMS',\n",
       "       'DIV_NAME_Office of Early Learning', 'DIV_NAME_Office of the Secretary',\n",
       "       'DIV_NAME_Operations Support', 'DIV_NAME_Other Items',\n",
       "       'DIV_NAME_Professional Standards Board',\n",
       "       'DIV_NAME_Public School Transportation',\n",
       "       'DIV_NAME_SPECIAL NEEDS PROGRAMS', 'DIV_NAME_Special Needs Programs',\n",
       "       'DIV_NAME_State Board of Education', 'DIV_NAME_Student Support',\n",
       "       'DIV_NAME_TRANSPORTATION', 'DIV_NAME_Transportation',\n",
       "       'TRANS_DT_month_1', 'TRANS_DT_month_10', 'TRANS_DT_month_11',\n",
       "       'TRANS_DT_month_12', 'TRANS_DT_month_2', 'TRANS_DT_month_3',\n",
       "       'TRANS_DT_month_4', 'TRANS_DT_month_5', 'TRANS_DT_month_6',\n",
       "       'TRANS_DT_month_7', 'TRANS_DT_month_8', 'TRANS_DT_month_9',\n",
       "       'TRANS_DT_weekday_0', 'TRANS_DT_weekday_1', 'TRANS_DT_weekday_2',\n",
       "       'TRANS_DT_weekday_3', 'TRANS_DT_weekday_4', 'TRANS_DT_weekday_5',\n",
       "       'TRANS_DT_weekday_6', 'TRANS_DT_is_month_end_0',\n",
       "       'TRANS_DT_is_month_end_1', 'TRANS_DT_is_month_start_0',\n",
       "       'TRANS_DT_is_month_start_1'],\n",
       "      dtype='object')"
      ]
     },
     "execution_count": 9,
     "metadata": {},
     "output_type": "execute_result"
    }
   ],
   "source": [
    "get_config('X').columns"
   ]
  },
  {
   "cell_type": "code",
   "execution_count": 10,
   "metadata": {},
   "outputs": [],
   "source": [
    "iforest = create_model('iforest')"
   ]
  },
  {
   "cell_type": "code",
   "execution_count": 11,
   "metadata": {},
   "outputs": [
    {
     "data": {
      "text/html": [
       "<div>\n",
       "<style scoped>\n",
       "    .dataframe tbody tr th:only-of-type {\n",
       "        vertical-align: middle;\n",
       "    }\n",
       "\n",
       "    .dataframe tbody tr th {\n",
       "        vertical-align: top;\n",
       "    }\n",
       "\n",
       "    .dataframe thead th {\n",
       "        text-align: right;\n",
       "    }\n",
       "</style>\n",
       "<table border=\"1\" class=\"dataframe\">\n",
       "  <thead>\n",
       "    <tr style=\"text-align: right;\">\n",
       "      <th></th>\n",
       "      <th>FISCAL_YEAR</th>\n",
       "      <th>FISCAL_PERIOD</th>\n",
       "      <th>DEPT_NAME</th>\n",
       "      <th>DIV_NAME</th>\n",
       "      <th>MERCHANT</th>\n",
       "      <th>CAT_DESCR</th>\n",
       "      <th>TRANS_DT</th>\n",
       "      <th>MERCHANDISE_AMT</th>\n",
       "      <th>Anomaly</th>\n",
       "      <th>Anomaly_Score</th>\n",
       "    </tr>\n",
       "  </thead>\n",
       "  <tbody>\n",
       "    <tr>\n",
       "      <th>0</th>\n",
       "      <td>2015</td>\n",
       "      <td>1</td>\n",
       "      <td>DEPT OF EDUCATION</td>\n",
       "      <td>DEPARTMENT OF EDUCATION</td>\n",
       "      <td>DOUBLETREE HOTELS WASHING</td>\n",
       "      <td>LODGING</td>\n",
       "      <td>6/3/2014</td>\n",
       "      <td>-5.50</td>\n",
       "      <td>0</td>\n",
       "      <td>-0.054562</td>\n",
       "    </tr>\n",
       "    <tr>\n",
       "      <th>1</th>\n",
       "      <td>2015</td>\n",
       "      <td>1</td>\n",
       "      <td>DEPT OF EDUCATION</td>\n",
       "      <td>DEPARTMENT OF EDUCATION</td>\n",
       "      <td>HYATT REGENCY NW ORLE F/B</td>\n",
       "      <td>EATING PLACES RESTAURANTS</td>\n",
       "      <td>6/26/2014</td>\n",
       "      <td>18.31</td>\n",
       "      <td>0</td>\n",
       "      <td>-0.064519</td>\n",
       "    </tr>\n",
       "    <tr>\n",
       "      <th>2</th>\n",
       "      <td>2015</td>\n",
       "      <td>1</td>\n",
       "      <td>DEPT OF EDUCATION</td>\n",
       "      <td>DEPARTMENT OF EDUCATION</td>\n",
       "      <td>HYATT REGENCY NW ORLE F/B</td>\n",
       "      <td>EATING PLACES RESTAURANTS</td>\n",
       "      <td>6/26/2014</td>\n",
       "      <td>21.61</td>\n",
       "      <td>0</td>\n",
       "      <td>-0.064519</td>\n",
       "    </tr>\n",
       "    <tr>\n",
       "      <th>3</th>\n",
       "      <td>2015</td>\n",
       "      <td>1</td>\n",
       "      <td>DEPT OF EDUCATION</td>\n",
       "      <td>DEPARTMENT OF EDUCATION</td>\n",
       "      <td>HYATT REGENCY NW ORLE F/B</td>\n",
       "      <td>EATING PLACES RESTAURANTS</td>\n",
       "      <td>6/26/2014</td>\n",
       "      <td>22.39</td>\n",
       "      <td>0</td>\n",
       "      <td>-0.064519</td>\n",
       "    </tr>\n",
       "    <tr>\n",
       "      <th>4</th>\n",
       "      <td>2015</td>\n",
       "      <td>1</td>\n",
       "      <td>DEPT OF EDUCATION</td>\n",
       "      <td>DEPARTMENT OF EDUCATION</td>\n",
       "      <td>HYATT REGENCY NW ORLE F/B</td>\n",
       "      <td>EATING PLACES RESTAURANTS</td>\n",
       "      <td>6/26/2014</td>\n",
       "      <td>5.44</td>\n",
       "      <td>0</td>\n",
       "      <td>-0.064519</td>\n",
       "    </tr>\n",
       "  </tbody>\n",
       "</table>\n",
       "</div>"
      ],
      "text/plain": [
       "   FISCAL_YEAR  FISCAL_PERIOD          DEPT_NAME                 DIV_NAME  \\\n",
       "0         2015              1  DEPT OF EDUCATION  DEPARTMENT OF EDUCATION   \n",
       "1         2015              1  DEPT OF EDUCATION  DEPARTMENT OF EDUCATION   \n",
       "2         2015              1  DEPT OF EDUCATION  DEPARTMENT OF EDUCATION   \n",
       "3         2015              1  DEPT OF EDUCATION  DEPARTMENT OF EDUCATION   \n",
       "4         2015              1  DEPT OF EDUCATION  DEPARTMENT OF EDUCATION   \n",
       "\n",
       "                    MERCHANT                  CAT_DESCR   TRANS_DT  \\\n",
       "0  DOUBLETREE HOTELS WASHING                    LODGING   6/3/2014   \n",
       "1  HYATT REGENCY NW ORLE F/B  EATING PLACES RESTAURANTS  6/26/2014   \n",
       "2  HYATT REGENCY NW ORLE F/B  EATING PLACES RESTAURANTS  6/26/2014   \n",
       "3  HYATT REGENCY NW ORLE F/B  EATING PLACES RESTAURANTS  6/26/2014   \n",
       "4  HYATT REGENCY NW ORLE F/B  EATING PLACES RESTAURANTS  6/26/2014   \n",
       "\n",
       "   MERCHANDISE_AMT  Anomaly  Anomaly_Score  \n",
       "0            -5.50        0      -0.054562  \n",
       "1            18.31        0      -0.064519  \n",
       "2            21.61        0      -0.064519  \n",
       "3            22.39        0      -0.064519  \n",
       "4             5.44        0      -0.064519  "
      ]
     },
     "execution_count": 11,
     "metadata": {},
     "output_type": "execute_result"
    }
   ],
   "source": [
    "r = assign_model(iforest)\n",
    "r.head()"
   ]
  },
  {
   "cell_type": "code",
   "execution_count": 12,
   "metadata": {},
   "outputs": [
    {
     "data": {
      "text/plain": [
       "0    14399\n",
       "1      757\n",
       "Name: Anomaly, dtype: int64"
      ]
     },
     "execution_count": 12,
     "metadata": {},
     "output_type": "execute_result"
    }
   ],
   "source": [
    "r['Anomaly'].value_counts()"
   ]
  },
  {
   "cell_type": "code",
   "execution_count": 13,
   "metadata": {},
   "outputs": [
    {
     "data": {
      "text/plain": [
       "<AxesSubplot:>"
      ]
     },
     "execution_count": 13,
     "metadata": {},
     "output_type": "execute_result"
    },
    {
     "data": {
      "image/png": "[encoded data removed]",
      "text/plain": [
       "<Figure size 720x432 with 1 Axes>"
      ]
     },
     "metadata": {
      "needs_background": "light"
     },
     "output_type": "display_data"
    }
   ],
   "source": [
    "r['Anomaly_Score'].hist(bins=100, figsize=(10,6))"
   ]
  },
  {
   "cell_type": "code",
   "execution_count": null,
   "metadata": {},
   "outputs": [],
   "source": []
  }
 ],
 "metadata": {
  "kernelspec": {
   "display_name": "Python 3",
   "language": "python",
   "name": "python3"
  },
  "language_info": {
   "codemirror_mode": {
    "name": "ipython",
    "version": 3
   },
   "file_extension": ".py",
   "mimetype": "text/x-python",
   "name": "python",
   "nbconvert_exporter": "python",
   "pygments_lexer": "ipython3",
   "version": "3.7.9"
  }
 },
 "nbformat": 4,
 "nbformat_minor": 2
}
